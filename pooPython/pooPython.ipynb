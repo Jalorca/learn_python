{
 "cells": [
  {
   "attachments": {},
   "cell_type": "markdown",
   "metadata": {},
   "source": [
    "# POO: Programación Orientada a Objetos\n",
    "> Trabaja desde la perspectiva de que los elementos que se trabajan duranta un proyecto de programación tienen un comportamiento (métodos) y propiedades (atributos) particulares.\n",
    "## Conceptos\n",
    "- Clase: Espacio donde se especifican las caracteristicas comunes de un grupo de objetos.\n",
    "- Instancia: Ejmeplo o objeto que pretenece a una clase.\n",
    "- Modularización: Conjunto de clases relacionadas.\n",
    "- Encapculación: Los elementos pertenecientes a las clases no interfieren unas con otras.\n",
    "- Métodos de acceso: conectan clases para que como una unidad.\n",
    "\n",
    "> Para acceder a las propiedades y comportamiento se emplea **la momenclatura del punto**.\n"
   ]
  },
  {
   "cell_type": "code",
   "execution_count": null,
   "metadata": {},
   "outputs": [],
   "source": [
    "class laptop():\n",
    "    #Constructor\n",
    "    def __init__(self):\n",
    "    #Atributos\n",
    "        self.pantallaPulg=11\n",
    "        self.teclado=\"ISO\"\n",
    "        self.ramGB=16\n",
    "        self.gpuName=\"Rtx2080\"\n",
    "        #Encapsular\n",
    "        self.__encendido=False\n",
    "    #Métodos\n",
    "    def encender(self):\n",
    "        self.__encendido=True\n",
    "    def caracteristicas(self):\n",
    "        print(\"La laptop cuenta con una pantalla de \" + str(self.pantallaPulg))\n",
    "#Instanciar clase, Objeto\n",
    "milaptop=laptop()\n",
    "#Momenclatura del punto\n",
    "milaptop.caracteristicas()"
   ]
  },
  {
   "attachments": {},
   "cell_type": "markdown",
   "metadata": {},
   "source": [
    "# Herencia entre clases \n",
    "> Es una caracteristica para reutilizar el código en caso de crear objetos similares\n",
    "## Sobrescritura de código de métodos\n",
    "> Cuando hay herencia multiple se le dara prioridad al que ingresa primero.\n",
    "- Emplear el pricipio de sustitución para determinar si la herencia es correcta.\n",
    "- isinstance(Objeto,clase), devuelve si un objeto pertenece a una clase.\n",
    "## Polimorfismo\n",
    "> Un obejto pueda cambiar de forma."
   ]
  },
  {
   "cell_type": "code",
   "execution_count": 2,
   "metadata": {},
   "outputs": [
    {
     "name": "stdout",
     "output_type": "stream",
     "text": [
      "marca: Honda \n",
      "Modelo:  CBR \n",
      "En Marcha:  False \n",
      "Acelerando:  False \n",
      "Frenando:  False \n",
      " Voy haciendo caballito\n"
     ]
    }
   ],
   "source": [
    "class vehiculo():\n",
    "    def __init__(self, marca, modelo):\n",
    "        self.marca=marca\n",
    "        self.modelo=modelo\n",
    "        self.enmarcha=False\n",
    "        self.acelera=False\n",
    "        self.frena=False\n",
    "    def arrancar(self):\n",
    "        self.enmarcha=True\n",
    "    def acelerar(self):\n",
    "        self.acelera=True\n",
    "    def frenar(self):\n",
    "        self.frena=True\n",
    "    def estado(self):\n",
    "        print(\"marca:\", self.marca, \"\\nModelo: \", self.modelo, \"\\nEn Marcha: \", self.enmarcha, \"\\nAcelerando: \", self.acelera, \"\\nFrenando: \", self.frena)\n",
    "#Herencia\n",
    "class furgoneta(vehiculo):\n",
    "    def carga(self,carga):\n",
    "        self.cargado=carga\n",
    "        if(self.cargago):\n",
    "            return \"La furgoneta esta cargada\"\n",
    "        else:\n",
    "            return \"la furgoneta no esta cargada\"\n",
    "    \n",
    "\n",
    "class moto(vehiculo):\n",
    "    hacecaballito=\"\"\n",
    "    def caballito(self):\n",
    "        self.hacecaballito=\"Voy haciendo caballito\"\n",
    "    def estado(self):\n",
    "        print(\"marca:\", self.marca, \"\\nModelo: \", self.modelo, \"\\nEn Marcha: \", self.enmarcha, \"\\nAcelerando: \", self.acelera, \"\\nFrenando: \", self.frena, \"\\n\", self.hacecaballito)\n",
    "\n",
    "\n",
    "   \n",
    "mimoto=moto(\"Honda\", \"CBR\")\n",
    "mimoto.caballito()\n",
    "mimoto.estado()\n",
    "\n",
    "mifurgoneta=furgoneta(\"toyota\", \"DFG\")\n"
   ]
  }
 ],
 "metadata": {
  "kernelspec": {
   "display_name": "Python 3",
   "language": "python",
   "name": "python3"
  },
  "language_info": {
   "codemirror_mode": {
    "name": "ipython",
    "version": 3
   },
   "file_extension": ".py",
   "mimetype": "text/x-python",
   "name": "python",
   "nbconvert_exporter": "python",
   "pygments_lexer": "ipython3",
   "version": "3.10.6"
  },
  "orig_nbformat": 4
 },
 "nbformat": 4,
 "nbformat_minor": 2
}
