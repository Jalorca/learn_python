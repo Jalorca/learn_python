{
 "cells": [
  {
   "cell_type": "code",
   "execution_count": 1,
   "id": "6e650606",
   "metadata": {},
   "outputs": [
    {
     "name": "stdout",
     "output_type": "stream",
     "text": [
      "Hola Jalorca\n"
     ]
    }
   ],
   "source": [
    "#Funcion Print\n",
    "print (\"Hola Jalorca\")"
   ]
  },
  {
   "attachments": {},
   "cell_type": "markdown",
   "id": "467918d9",
   "metadata": {},
   "source": [
    "## Tipos de datos\n",
    "Existen tipos de valores como los siguientes:\n",
    "- **Entero (int)**: numero que no tienen decimales, positivos, negativos, y cero\n",
    "- **Coma flotante(float)**: numeros con decimales, positivos negativos, 0.0\n",
    "- **Booleanos (bool)**: valores de verdad, verdadero y falso\n",
    "- **String(str)**: cadena de caracteres"
   ]
  },
  {
   "cell_type": "code",
   "execution_count": 3,
   "id": "2c202e1c",
   "metadata": {
    "scrolled": true
   },
   "outputs": [
    {
     "data": {
      "text/plain": [
       "float"
      ]
     },
     "execution_count": 3,
     "metadata": {},
     "output_type": "execute_result"
    }
   ],
   "source": [
    "#Funcion para identificar tipo de dato\n",
    "type(-5.6)"
   ]
  },
  {
   "attachments": {},
   "cell_type": "markdown",
   "id": "c6816bd8",
   "metadata": {},
   "source": [
    "## Funciones de cadenas de caracteres\n",
    "- len(str), devuelve la longitud de la cadena\n",
    "- Indexación:\n",
    "    - str[index]\n",
    "    - str[inicio:fin]\n",
    "    - str[inicio:fin:salto]"
   ]
  },
  {
   "cell_type": "code",
   "execution_count": 7,
   "id": "e608d3a9",
   "metadata": {
    "scrolled": true
   },
   "outputs": [
    {
     "name": "stdout",
     "output_type": "stream",
     "text": [
      "7\n",
      "l\n",
      "lol\n",
      "oct\n"
     ]
    }
   ],
   "source": [
    "palabra = \"lolcito\"\n",
    "print(len(palabra))\n",
    "print(palabra[2])\n",
    "print(palabra[0:3])\n",
    "print(palabra[1:6:2])"
   ]
  },
  {
   "attachments": {},
   "cell_type": "markdown",
   "id": "69e99ec8",
   "metadata": {},
   "source": [
    "## Métodos con cadenas de caracteres\n",
    "- upper(), pone todo en mayusculas\n",
    "- lower(), pone todo en minisculas\n",
    "- capitalize(), Cambiar primer caracter en mayuscula, el resto en minuscula\n",
    "- count(), contar caracter o grupo de caracteres que aparecen en una cadena\n",
    "- find(), devuelve la posicion en la que aparece un caracter o grupo de caracteres.\n",
    "- isdigit(), devuelve True/False, si el valor introducido es un valor númerico\n",
    "- isalum(), devuelve True/False, si el valor introducido es un valor alfaumerico\n",
    "- isalpha(), devuelve True/False, si el valor introducido es un valor sololetras\n",
    "- split(), separa por palabras empleando espacios\n",
    "- strip(), borra espacios sobrantes al principio y final\n",
    "- repalce(), cambia una palabra o letra de un string\n",
    "- rfind(), busca la posicion de una letra desde el final"
   ]
  },
  {
   "cell_type": "code",
   "execution_count": 8,
   "id": "d25151d2",
   "metadata": {},
   "outputs": [
    {
     "name": "stdout",
     "output_type": "stream",
     "text": [
      "Lolcito\n"
     ]
    }
   ],
   "source": [
    "print (palabra.capitalize())"
   ]
  },
  {
   "attachments": {},
   "cell_type": "markdown",
   "id": "17c1ff7e",
   "metadata": {},
   "source": [
    "## Función para ingresar datos\n",
    "- input(Mensaje de entrada de datos), permite perdir mediante una ventana emergrnte un valor. El valor que retorna input siempre es un STR."
   ]
  },
  {
   "cell_type": "code",
   "execution_count": 5,
   "id": "2f3d1ff7",
   "metadata": {},
   "outputs": [
    {
     "name": "stdout",
     "output_type": "stream",
     "text": [
      "hola\n"
     ]
    }
   ],
   "source": [
    "entrada = input(\"Ingrese palabra a evaluar: \")\n",
    "print(entrada)"
   ]
  },
  {
   "attachments": {},
   "cell_type": "markdown",
   "id": "6ab9bbbd",
   "metadata": {},
   "source": [
    "## Operadores\n",
    "Simbolos que denotan una operacion en el programa\n",
    "### Operadores arimeticos: suma, resta, multiplicacion, division, division entera, exponente y modulo.\n",
    "- Dision(/): resultado en float, Division entera(//): parte entera del resultado\n",
    "- Exponente(**): potencia \n",
    "- Modulo (%): devuelve el resto de una division\n",
    "- ORDEN: PEMDAS:Parentesis,Exponentes,Multiplicacion,Division,Suma,Resta\n",
    "### Operadores logicos: permite trabajr con operadores booleanos, and, or, not\n",
    "- and: debuelve TRUE si ambos operandos son TRUE, sino FALSE\n",
    "- or: devuelve FAlSE si ambos operandos son FALSE, sino TRUE\n",
    "- not: niega el valor del operando\n",
    "- Prioridad: not > and > or\n",
    "### Operadores relacionales: Son utilizados para comprar valores, y retorna un bool\n",
    "- <,<=,>,>=,==,!=\n",
    "### Operadores de asignacion: Son empleados para asignar valores a la variables\n",
    "- = : Asigna un valor a una variable\n",
    "- +=,-=,*=,/=,**=,//=,%=: son empleados para actualziar el valor de una varible aplicando el operador correspondiento con el valor indicado"
   ]
  },
  {
   "attachments": {},
   "cell_type": "markdown",
   "id": "8136dde5",
   "metadata": {},
   "source": [
    "## Sentencias condicionales: \n",
    "Instrucion que se ejecuta dependiendo del valor de una condicion booleana\n",
    "- if <condicion>\"Si?\"\n",
    "- clausula else \"Si no\", solo puede haber una de estas clausulas\n",
    "- clausula elif, puede haber mas de una de estas clausulas"
   ]
  },
  {
   "cell_type": "code",
   "execution_count": 9,
   "id": "3704c492",
   "metadata": {},
   "outputs": [
    {
     "name": "stdout",
     "output_type": "stream",
     "text": [
      "Hace sol\n"
     ]
    }
   ],
   "source": [
    "temp = 30\n",
    "if temp < 25:\n",
    "    print (\"Hace hielo\")\n",
    "elif temp == 25:\n",
    "    print (\"Esta fresquito\")\n",
    "else:\n",
    "    print (\"Hace sol\") "
   ]
  },
  {
   "attachments": {},
   "cell_type": "markdown",
   "id": "edc40c58",
   "metadata": {},
   "source": [
    "## Listas\n",
    "Son un tipo de dato - estructura de datos que contiene multiples valores en una secuencia ordenada.\n",
    "Son mutables\n",
    "### Métodos:<lista>.<metodo>(<parametro>)\n",
    "- lista.append(Dato), AGREGAR elemento al final de la lista\n",
    "- lista.insert(Index,Dato), Insertar elemento en un indice especifico\n",
    "- lista.remove(Dato), Remover elemento, el primero que encuentre en la lista\n",
    "- Dato in lista, Encontrar elelemtno en un lista\n",
    "- lista.index(Dato), retorna el indice de un elemento\n",
    "- lista[index]=dato, reemplaza dato en indice ingresado\n",
    "- lista.count(Dato), Cuenta la cantidad de veces que un Dato se repite en una lista\n",
    "- lista.extend(<lista>), es agrega una lista a otra lista\n",
    "- lista.pop(). elimina y retorna un elelemnto de una lista\n",
    "- lista.reverse(), \n",
    "- lista.sort()"
   ]
  },
  {
   "cell_type": "code",
   "execution_count": 25,
   "id": "7fa747c4",
   "metadata": {},
   "outputs": [
    {
     "name": "stdout",
     "output_type": "stream",
     "text": [
      "['a', 'b', 'c', 'c', 'e']\n",
      "['a', 'A', 'b', 'c', 'c', 'e']\n",
      "['a', 'b', 'c', 'c', 'e']\n",
      "False\n",
      "['A', 'b', 'c', 'c', 'e']\n"
     ]
    },
    {
     "data": {
      "text/plain": [
       "0"
      ]
     },
     "execution_count": 25,
     "metadata": {},
     "output_type": "execute_result"
    }
   ],
   "source": [
    "letras = [\"a\",\"b\",\"c\",\"c\"]\n",
    "letras[1]\n",
    "letras.append(\"e\")\n",
    "print(letras)\n",
    "letras.insert(1,\"A\")\n",
    "print(letras)\n",
    "letras.remove(\"A\")\n",
    "print(letras)\n",
    "if \"A\" in letras:\n",
    "    print(\"True\")\n",
    "else:\n",
    "    print(\"False\")\n",
    "letras.index(\"c\")\n",
    "letras[0]=\"A\"\n",
    "print(letras)\n",
    "letras.count(\"a\")"
   ]
  },
  {
   "attachments": {},
   "cell_type": "markdown",
   "id": "9e314755",
   "metadata": {},
   "source": [
    "## Tuplas: \n",
    "Estructura de datos inmutable contiene una secuencia ordenada de elementos.\n",
    "### Métodos\n",
    "- tupla.[index], devuelve el elemento ubicado en el indice.\n",
    "- tupla.index(dato), devuelve el indice del valor.\n",
    "- tupla.count(dato), devuelve la cantidad de veces que se repite en la tupla el valor ingresado.\n",
    "### Empaquetado de tupla\n",
    "NOTA: AGREGAR CONTENIDO\n",
    "### Desempaquetado de tupla\n",
    "NOTA: AGREGAR CONTENIDO\n",
    "### Covertir lista-tupla, tupla-lista\n",
    "- list(tupla), transforma una tupla a lista\n",
    "- tuple(lista), transforma una lista a tupla"
   ]
  },
  {
   "cell_type": "code",
   "execution_count": 6,
   "id": "3407e266",
   "metadata": {},
   "outputs": [
    {
     "name": "stdout",
     "output_type": "stream",
     "text": [
      "1\n",
      "1\n",
      "1\n",
      "[1, 2, 3, 4]\n"
     ]
    }
   ],
   "source": [
    "numeros=(1,2,3,4)\n",
    "print(numeros[0])\n",
    "print(numeros.index(2))\n",
    "print(numeros.count(3))"
   ]
  },
  {
   "attachments": {},
   "cell_type": "markdown",
   "id": "be40a741",
   "metadata": {},
   "source": [
    "## Diccionarios\n",
    "Coleccion de pares clave-valor\n",
    "### Métodos\n",
    "- diccionario[clave], devuelve el valor al cual esta vinculado la clave vinculada\n",
    "- diccionario.get(clave), devuelve el valor al cual esta vinculado la clave vinculada\n",
    "- diccionario[clave]=valor, añadir o modificar clave-valor\n",
    "- clave in diccionario, revisa la existencia de clave en diccionario\n",
    "- diciconario.keys(), devuelve claves del diccionario\n",
    "- diciconario.values(), devuelve valores del diccionario\n"
   ]
  },
  {
   "cell_type": "code",
   "execution_count": 5,
   "id": "236eaccb",
   "metadata": {},
   "outputs": [
    {
     "name": "stdout",
     "output_type": "stream",
     "text": [
      "10\n",
      "10\n"
     ]
    },
    {
     "data": {
      "text/plain": [
       "False"
      ]
     },
     "execution_count": 5,
     "metadata": {},
     "output_type": "execute_result"
    }
   ],
   "source": [
    "\n",
    "notas = {\"Alex\":10, \"Jean\":12, \"Win\":15}\n",
    "print(notas[\"Alex\"])\n",
    "print(notas.get(\"Alex\"))\n",
    "notas[\"Gena\"]=20\n",
    "notas[\"Alex\"]=13\n",
    "del notas[\"Alex\"]\n",
    "notas\n",
    "\"Alex\" in notas"
   ]
  },
  {
   "attachments": {},
   "cell_type": "markdown",
   "id": "c084fa90",
   "metadata": {},
   "source": [
    "## Ciclos y Iteraciones\n",
    "> Los ciclos o bucles son un cojunto de instruciones que se repiten mientras una condicion sea verdadera.\n",
    "### Ciclos for\n",
    "> La cantidad de veces el el bucle se repite es determinada por un rango o una iterables (un tipo de dato que puede ser una lista, tupla, diccionario, etc.)\n",
    "- for Variable in range( inicio , fin ): ; \n",
    "- for variable in iterable:\n",
    "### Ciclos while\n",
    "> La cantidad de veces que el bucle se repite es indeterminada.\n",
    "- while condicion:"
   ]
  },
  {
   "cell_type": "code",
   "execution_count": null,
   "id": "ef1170be",
   "metadata": {},
   "outputs": [],
   "source": [
    "#Ciclos sobre rango\n",
    "for i in range(4):\n",
    "    print(i)"
   ]
  },
  {
   "cell_type": "code",
   "execution_count": null,
   "id": "8fa2f3c7",
   "metadata": {},
   "outputs": [],
   "source": [
    "#Ciclos sobre iterables\n",
    "for char in \"loops\":\n",
    "    print(char)\n",
    "    "
   ]
  },
  {
   "cell_type": "code",
   "execution_count": null,
   "id": "1d2cf567",
   "metadata": {},
   "outputs": [],
   "source": [
    "#Ciclo for sobre diccionario\n",
    "notas = {\"Alex\":10, \"Jean\":12, \"Win\":15}\n",
    "for nombre in notas:\n",
    "    print(nombre)\n",
    "for puntos in notas.values():\n",
    "    print(puntos)\n",
    "for nombre, puntos in notas.items():\n",
    "    print(nombre, puntos)"
   ]
  },
  {
   "cell_type": "code",
   "execution_count": null,
   "id": "99f6b9be",
   "metadata": {},
   "outputs": [],
   "source": [
    "#Ciclo While, continua mientras una condicion es verdadera\n",
    "i=20\n",
    "while i < 25:\n",
    "    print(i)\n",
    "    i+=1\n",
    "\n"
   ]
  },
  {
   "attachments": {},
   "cell_type": "markdown",
   "id": "2e9c3877",
   "metadata": {},
   "source": [
    "## Definir funciones\n",
    "> Son bloques de codigo reutilizable, que realiza una tarea especifica. Despues de definir una funcion es necesario llamar la función e ingresar paramatros para imprimir o retornar valores.\n",
    "- def nombre_funcion(parametros)\n"
   ]
  },
  {
   "cell_type": "code",
   "execution_count": null,
   "id": "106afd0c",
   "metadata": {},
   "outputs": [],
   "source": [
    "\n",
    "#Definicion de la funcion\n",
    "def mitad(num):\n",
    "    #Print muestra\n",
    "    print(num/2)\n",
    "num = 2\n",
    " #Llamada de la funcion\n",
    "mitad(num)\n",
    "\n",
    "\n"
   ]
  },
  {
   "cell_type": "code",
   "execution_count": null,
   "id": "7caece7a",
   "metadata": {},
   "outputs": [],
   "source": [
    "#Retornar valor\n",
    "def doble(num):\n",
    "    return num*2\n",
    "    \n",
    "num = 4\n",
    "doble = doble(num)\n",
    "doble\n",
    "\n",
    "#Alcance de una variable en un programa(Scope)\n",
    "#Alcance global, variable q fueron definidas en el programa principal\n",
    "#Alcance local, varibles que fueron definidads dentro de una funcion\n"
   ]
  }
 ],
 "metadata": {
  "kernelspec": {
   "display_name": "Python 3 (ipykernel)",
   "language": "python",
   "name": "python3"
  },
  "language_info": {
   "codemirror_mode": {
    "name": "ipython",
    "version": 3
   },
   "file_extension": ".py",
   "mimetype": "text/x-python",
   "name": "python",
   "nbconvert_exporter": "python",
   "pygments_lexer": "ipython3",
   "version": "3.10.6"
  }
 },
 "nbformat": 4,
 "nbformat_minor": 5
}
