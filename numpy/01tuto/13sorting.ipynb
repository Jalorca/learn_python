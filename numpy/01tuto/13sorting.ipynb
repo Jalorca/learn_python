{
 "cells": [
  {
   "attachments": {},
   "cell_type": "markdown",
   "metadata": {},
   "source": [
    "# Ordenar arrays"
   ]
  },
  {
   "cell_type": "code",
   "execution_count": 4,
   "metadata": {},
   "outputs": [
    {
     "name": "stdout",
     "output_type": "stream",
     "text": [
      "[1 2 3 4 5 6 7]\n",
      "['banana' 'manzana' 'maranja']\n",
      "[[3 4 5]\n",
      " [1 2 6]]\n"
     ]
    }
   ],
   "source": [
    "import numpy as np\n",
    "\n",
    "x=np.array([5,3,2,7,4,1,6])\n",
    "print(np.sort(x))\n",
    "\n",
    "y=np.array(['manzana','banana', 'maranja'])\n",
    "print(np.sort(y))\n",
    "\n",
    "z=np.array([[4,5,3],[6,1,2]])\n",
    "print(np.sort(z))\n"
   ]
  }
 ],
 "metadata": {
  "kernelspec": {
   "display_name": "Python 3",
   "language": "python",
   "name": "python3"
  },
  "language_info": {
   "codemirror_mode": {
    "name": "ipython",
    "version": 3
   },
   "file_extension": ".py",
   "mimetype": "text/x-python",
   "name": "python",
   "nbconvert_exporter": "python",
   "pygments_lexer": "ipython3",
   "version": "3.10.6"
  },
  "orig_nbformat": 4
 },
 "nbformat": 4,
 "nbformat_minor": 2
}
