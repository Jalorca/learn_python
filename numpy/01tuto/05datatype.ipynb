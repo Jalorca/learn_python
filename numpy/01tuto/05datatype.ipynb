{
 "cells": [
  {
   "attachments": {},
   "cell_type": "markdown",
   "metadata": {},
   "source": [
    "# Tipos de datos para Numpy\n",
    "> Tener en cuenta que todos los valores en un arreglo deben ser del mismo tipo de dato.\n",
    "\n",
    "- integer: i\n",
    "- boolean: b\n",
    "- unsigned integer: u\n",
    "- float: f\n",
    "- complex float: c\n",
    "- timedelta: m\n",
    "- datetime: M\n",
    "- object: O\n",
    "- string: S\n",
    "- unicode string: U\n",
    "- fixed chunk of memory for other type (void) : V\n",
    "\n"
   ]
  },
  {
   "cell_type": "code",
   "execution_count": 4,
   "metadata": {},
   "outputs": [
    {
     "name": "stdout",
     "output_type": "stream",
     "text": [
      "[b'1' b'2' b'3' b'4']\n",
      "|S1\n"
     ]
    }
   ],
   "source": [
    "import numpy as np\n",
    "\n",
    "a = np.array([1,2,3,4], dtype=\"S\")\n",
    "\n",
    "print(a)\n",
    "print(a.dtype)"
   ]
  },
  {
   "cell_type": "code",
   "execution_count": 2,
   "metadata": {},
   "outputs": [
    {
     "name": "stdout",
     "output_type": "stream",
     "text": [
      "[1 2 3 4]\n",
      "int32\n"
     ]
    }
   ],
   "source": [
    "import numpy as np\n",
    "\n",
    "a = np.array([1,2,3,4], dtype=\"i4\")\n",
    "\n",
    "print(a)\n",
    "print(a.dtype)"
   ]
  },
  {
   "attachments": {},
   "cell_type": "markdown",
   "metadata": {},
   "source": [
    "# Cambiar el tipo de dato de un array ya existente"
   ]
  },
  {
   "cell_type": "code",
   "execution_count": 7,
   "metadata": {},
   "outputs": [
    {
     "name": "stdout",
     "output_type": "stream",
     "text": [
      "[1 2 3]\n",
      "int64\n",
      "[ True False  True]\n",
      "bool\n"
     ]
    }
   ],
   "source": [
    "import numpy as np\n",
    "\n",
    "a= np.array([1.2, 2.3, 3.5])\n",
    "\n",
    "newa= a.astype(int)\n",
    "\n",
    "print(newa)\n",
    "print(newa.dtype)\n",
    "\n",
    "b= np.array([1, 0, 3])\n",
    "newb= b.astype(bool)\n",
    "\n",
    "print(newb)\n",
    "print(newb.dtype)"
   ]
  }
 ],
 "metadata": {
  "kernelspec": {
   "display_name": "Python 3",
   "language": "python",
   "name": "python3"
  },
  "language_info": {
   "codemirror_mode": {
    "name": "ipython",
    "version": 3
   },
   "file_extension": ".py",
   "mimetype": "text/x-python",
   "name": "python",
   "nbconvert_exporter": "python",
   "pygments_lexer": "ipython3",
   "version": "3.10.6"
  },
  "orig_nbformat": 4
 },
 "nbformat": 4,
 "nbformat_minor": 2
}
