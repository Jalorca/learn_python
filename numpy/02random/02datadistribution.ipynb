{
 "cells": [
  {
   "attachments": {},
   "cell_type": "markdown",
   "metadata": {},
   "source": [
    "# Distribucion de data random"
   ]
  },
  {
   "cell_type": "code",
   "execution_count": 2,
   "metadata": {},
   "outputs": [
    {
     "name": "stdout",
     "output_type": "stream",
     "text": [
      "[7 5 5 5 7 5 3 7 5 5 5 7 9 5 9 9 7 9 3 7 7 9 3 3 5 7 7 7 9 3 3 5 9 3 9 9 7\n",
      " 3 3 3 7 7 5 5 5 7 3 3 3 3 3 5 5 9 3 7 5 7 7 3 9 5 5 5 7 9 3 3 7 7 9 5 7 3\n",
      " 5 7 7 7 9 5 9 3 5 5 3 5 9 3 5 5 9 3 9 7 9 3 5 9 5 7]\n",
      "[[9 3 7 7 5]\n",
      " [9 3 3 7 5]\n",
      " [5 3 5 3 5]\n",
      " [9 7 7 9 3]]\n"
     ]
    }
   ],
   "source": [
    "from numpy import random\n",
    "\n",
    "a = random.choice([3,5,7,9], p = [0.2,0.3,0.3,0.2], size = (100))\n",
    "print(a)\n",
    "\n",
    "b = random.choice([3,5,7,9], p = [0.2,0.3,0.3,0.2], size = (4,5))\n",
    "print(b)"
   ]
  }
 ],
 "metadata": {
  "kernelspec": {
   "display_name": "Python 3",
   "language": "python",
   "name": "python3"
  },
  "language_info": {
   "codemirror_mode": {
    "name": "ipython",
    "version": 3
   },
   "file_extension": ".py",
   "mimetype": "text/x-python",
   "name": "python",
   "nbconvert_exporter": "python",
   "pygments_lexer": "ipython3",
   "version": "3.10.6"
  },
  "orig_nbformat": 4
 },
 "nbformat": 4,
 "nbformat_minor": 2
}
