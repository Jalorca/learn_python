{
 "cells": [
  {
   "attachments": {},
   "cell_type": "markdown",
   "metadata": {},
   "source": [
    "# Permutacion randon de elementos\n",
    "> La permutacion hace referencia a la posicion de los elemntos en el arreglo"
   ]
  },
  {
   "cell_type": "code",
   "execution_count": 3,
   "metadata": {},
   "outputs": [
    {
     "name": "stdout",
     "output_type": "stream",
     "text": [
      "[4 6 7 9 1 3 5 2 8]\n",
      "None\n",
      "[1 2 3 4 5 6 7 8 9]\n",
      "[1 3 7 5 4 9 6 2 8]\n"
     ]
    }
   ],
   "source": [
    "from numpy import random\n",
    "import numpy as np\n",
    "\n",
    "a = np.array([1,2,3,4,5,6,7,8,9])\n",
    "\n",
    "# Cambia la posicion de los elementos de un arreglo, sin modificar el arreglo original\n",
    "x = random.permutation(a)\n",
    "print(x)\n",
    "\n",
    "print(a)\n",
    "\n",
    "# Cambiar la posicion de los elementos del array\n",
    "random.shuffle(a)\n",
    "print(a)\n",
    "\n",
    "# \n"
   ]
  }
 ],
 "metadata": {
  "kernelspec": {
   "display_name": "Python 3",
   "language": "python",
   "name": "python3"
  },
  "language_info": {
   "codemirror_mode": {
    "name": "ipython",
    "version": 3
   },
   "file_extension": ".py",
   "mimetype": "text/x-python",
   "name": "python",
   "nbconvert_exporter": "python",
   "pygments_lexer": "ipython3",
   "version": "3.10.6"
  },
  "orig_nbformat": 4
 },
 "nbformat": 4,
 "nbformat_minor": 2
}
