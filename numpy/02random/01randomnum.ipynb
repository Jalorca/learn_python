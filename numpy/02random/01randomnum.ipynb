{
 "cells": [
  {
   "attachments": {},
   "cell_type": "markdown",
   "metadata": {},
   "source": [
    "# Numeros random en Numpy"
   ]
  },
  {
   "cell_type": "code",
   "execution_count": 10,
   "metadata": {},
   "outputs": [
    {
     "name": "stdout",
     "output_type": "stream",
     "text": [
      "34\n"
     ]
    }
   ],
   "source": [
    "import numpy as np\n",
    "from numpy import random\n",
    "\n",
    "x = random.randint(100)\n",
    "\n",
    "print(x)"
   ]
  },
  {
   "attachments": {},
   "cell_type": "markdown",
   "metadata": {},
   "source": [
    "## Generar un float random entre 0 - 1"
   ]
  },
  {
   "cell_type": "code",
   "execution_count": 17,
   "metadata": {},
   "outputs": [
    {
     "name": "stdout",
     "output_type": "stream",
     "text": [
      "0.9459592888830859\n"
     ]
    }
   ],
   "source": [
    "from numpy import random\n",
    "\n",
    "x = random.rand()\n",
    "\n",
    "print(x)"
   ]
  },
  {
   "attachments": {},
   "cell_type": "markdown",
   "metadata": {},
   "source": [
    "## Generar array random"
   ]
  },
  {
   "cell_type": "code",
   "execution_count": 18,
   "metadata": {},
   "outputs": [
    {
     "name": "stdout",
     "output_type": "stream",
     "text": [
      "[76 66 25 26  6]\n",
      "[0.08355766 0.56852274 0.65585647 0.159521   0.83456644]\n",
      "[[0.48898308 0.19507586 0.29478977 0.05878886 0.13396304]\n",
      " [0.04967305 0.67462034 0.37486429 0.61692066 0.4055443 ]\n",
      " [0.23010677 0.78035156 0.25099146 0.53940658 0.10103485]]\n"
     ]
    }
   ],
   "source": [
    "from numpy import random\n",
    "\n",
    "# Array 1 - D random de enteros entre 0 - 100\n",
    "x = random.randint(100, size = 5)\n",
    "print(x)\n",
    "\n",
    "# Array 1 -D random de float entre 0 - 1\n",
    "y = random.rand(5)\n",
    "print(y)\n",
    "\n",
    "# Array 2 - D de float entre 0 - 1\n",
    "z = random.rand(3,5)\n",
    "print(z)\n",
    "\n"
   ]
  },
  {
   "attachments": {},
   "cell_type": "markdown",
   "metadata": {},
   "source": [
    "## Generar random desde un array"
   ]
  },
  {
   "cell_type": "code",
   "execution_count": 24,
   "metadata": {},
   "outputs": [
    {
     "name": "stdout",
     "output_type": "stream",
     "text": [
      "7\n",
      "[[7 5 3 9 7]\n",
      " [5 7 3 9 9]\n",
      " [3 9 7 3 3]]\n"
     ]
    }
   ],
   "source": [
    "from numpy import random\n",
    "\n",
    "#Generar numero random desde un array\n",
    "x = random.choice([3,5,7,9])\n",
    "print(x)\n",
    "\n",
    "#Generar array 2-D random desde un array\n",
    "y = random.choice([3,5,7,9], size=(3,5))\n",
    "print(y)"
   ]
  }
 ],
 "metadata": {
  "kernelspec": {
   "display_name": "Python 3",
   "language": "python",
   "name": "python3"
  },
  "language_info": {
   "codemirror_mode": {
    "name": "ipython",
    "version": 3
   },
   "file_extension": ".py",
   "mimetype": "text/x-python",
   "name": "python",
   "nbconvert_exporter": "python",
   "pygments_lexer": "ipython3",
   "version": "3.10.6"
  },
  "orig_nbformat": 4
 },
 "nbformat": 4,
 "nbformat_minor": 2
}
